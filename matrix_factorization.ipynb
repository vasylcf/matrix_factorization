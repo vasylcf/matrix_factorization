{
 "cells": [
  {
   "cell_type": "code",
   "execution_count": 1,
   "metadata": {},
   "outputs": [],
   "source": [
    "import numpy as np\n",
    "import pandas as pd\n",
    "import matplotlib.pyplot as plt"
   ]
  },
  {
   "cell_type": "code",
   "execution_count": 2,
   "metadata": {},
   "outputs": [],
   "source": [
    "def matrix_factorization_model(A,k,seed=10,alpha=0.01,beta=0.02,iterr=20):\n",
    "    \n",
    "    \"\"\"\n",
    "    Matrix factorization model.\n",
    "    \n",
    "    Input:\n",
    "    A - matrix that we need to factorize (matrix with empty (=0) cells)\n",
    "    k - factorization parametr (the number of latent features)\n",
    "    iterr - the number of iterations\n",
    "    seed - seed parametr for initialize matrices P and Q\n",
    "    alpha - learning rate for matrices P and Q\n",
    "    beta - learning rate for biases\n",
    "    \n",
    "    Output:\n",
    "    scores - MSE in time train process\n",
    "    res - dict as {'P':P, 'Q':Q, 'b':b, 'bi':bi, 'bj':bj}, where:\n",
    "            P and Q - matrices, their dot product male factorization of matrix A\n",
    "            b,bi,bj - biases\n",
    "    \"\"\"\n",
    "    \n",
    "\n",
    "    \n",
    "    n,m=A.shape\n",
    "    np.random.seed(10)\n",
    "    P=np.random.randn(n,k)\n",
    "    Q=np.random.randn(m,k)\n",
    "    b=np.mean(A[np.where(A!=0)])\n",
    "    bi=np.zeros(n)\n",
    "    bj=np.zeros(m)\n",
    "    \n",
    "    \n",
    "    train=[(i,j,A[i,j]) for i in range(n) for j in range(m) if A[i,j]!=0]\n",
    "    df=pd.DataFrame(train,columns=['user','item','rating'])\n",
    "    \n",
    "    def  backprop(x, P=P, Q=Q, b=b, bi=bi, bj=bj,alpha=alpha, beta=beta):\n",
    "        i=x[0]\n",
    "        j=x[1]\n",
    "        a=x[2]\n",
    "        a_hat=b + np.dot( P[i,:]+bi[i] ,(Q[j,:]+bj[j]).T)\n",
    "        e=(a_hat-a)\n",
    "\n",
    "        dp=e*(Q[j,:]+bj[j])\n",
    "        P[i,:]=P[i,:]-alpha*dp\n",
    "\n",
    "        dq=e*(P[i,:]+bi[i])\n",
    "        Q[j,:]=Q[j,:]-alpha*dq\n",
    "\n",
    "        db=e\n",
    "        b=b-beta*e\n",
    "\n",
    "        dbi=dp\n",
    "        bi[i]=bi[i]-beta*np.mean(dbi)\n",
    "\n",
    "        dbj=dq\n",
    "        bj[j]=bj[j]-beta*np.mean(dbj)\n",
    "\n",
    "        a_hat=b + np.dot( P[i,:]+bi[i] ,(Q[j,:]+bj[j]).T)\n",
    "        err=(a-a_hat)**2\n",
    "\n",
    "        return P,Q,b,bi,bj,err\n",
    "    \n",
    "    scores=[]\n",
    "    for _ in range(iterr):\n",
    "        batch_scores=[]\n",
    "        for x in df.index:\n",
    "            P,Q,b,bi,bj,err=backprop(df[['user','item','rating']].loc[x,:])\n",
    "            batch_scores.append(err)\n",
    "        scores.append(np.mean(batch_scores))\n",
    "    \n",
    "    plt.plot(scores)\n",
    "    result={'P':P, 'Q':Q, 'b':b, 'bi':bi, 'bj':bj}\n",
    "    return scores, result\n",
    "    "
   ]
  },
  {
   "cell_type": "code",
   "execution_count": 3,
   "metadata": {},
   "outputs": [],
   "source": [
    "def factorization(result):\n",
    "    n=result['P'].shape[0]\n",
    "    m=result['Q'].shape[0]\n",
    "    return result['b'] + np.dot(result['P']+result['bi'].reshape(n,1), (result['Q']+result['bj'].reshape(m,1)).T)"
   ]
  },
  {
   "cell_type": "code",
   "execution_count": 4,
   "metadata": {},
   "outputs": [],
   "source": [
    "A=np.array([[5, 3, 0, 1],\n",
    "       [4, 0, 0, 1],\n",
    "       [1, 1, 0, 5],\n",
    "       [1, 0, 0, 4],\n",
    "       [0, 1, 5, 4]])"
   ]
  },
  {
   "cell_type": "code",
   "execution_count": 12,
   "metadata": {},
   "outputs": [
    {
     "data": {
      "image/png": "[encoded data removed]",
      "text/plain": [
       "<Figure size 432x288 with 1 Axes>"
      ]
     },
     "metadata": {
      "needs_background": "light"
     },
     "output_type": "display_data"
    }
   ],
   "source": [
    "scores, result=matrix_factorization_model(A,k=2,iterr=60)"
   ]
  },
  {
   "cell_type": "code",
   "execution_count": 13,
   "metadata": {},
   "outputs": [
    {
     "data": {
      "text/plain": [
       "array([[4.75, 3.05, 0.91, 0.86],\n",
       "       [4.34, 4.62, 1.44, 1.41],\n",
       "       [0.69, 0.92, 4.54, 4.57],\n",
       "       [1.22, 1.83, 4.12, 4.15],\n",
       "       [0.81, 1.07, 4.44, 4.47]])"
      ]
     },
     "execution_count": 13,
     "metadata": {},
     "output_type": "execute_result"
    }
   ],
   "source": [
    "A_hat=factorization(result)\n",
    "np.round(A_hat,2)"
   ]
  },
  {
   "cell_type": "code",
   "execution_count": 7,
   "metadata": {},
   "outputs": [
    {
     "data": {
      "text/plain": [
       "array([[5, 3, 0, 1],\n",
       "       [4, 0, 0, 1],\n",
       "       [1, 1, 0, 5],\n",
       "       [1, 0, 0, 4],\n",
       "       [0, 1, 5, 4]])"
      ]
     },
     "execution_count": 7,
     "metadata": {},
     "output_type": "execute_result"
    }
   ],
   "source": [
    "A"
   ]
  },
  {
   "cell_type": "code",
   "execution_count": 17,
   "metadata": {},
   "outputs": [
    {
     "name": "stdout",
     "output_type": "stream",
     "text": [
      "MSE on 60 iteration  0.0856317136302503\n"
     ]
    }
   ],
   "source": [
    "print (f'MSE on {len(scores)} iteration  {scores[-1]}')"
   ]
  }
 ],
 "metadata": {
  "kernelspec": {
   "display_name": "Python 3",
   "language": "python",
   "name": "python3"
  },
  "language_info": {
   "codemirror_mode": {
    "name": "ipython",
    "version": 3
   },
   "file_extension": ".py",
   "mimetype": "text/x-python",
   "name": "python",
   "nbconvert_exporter": "python",
   "pygments_lexer": "ipython3",
   "version": "3.7.3"
  }
 },
 "nbformat": 4,
 "nbformat_minor": 2
}
