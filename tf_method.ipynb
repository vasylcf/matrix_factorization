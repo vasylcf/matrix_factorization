{
 "cells": [
  {
   "cell_type": "code",
   "execution_count": 1,
   "metadata": {},
   "outputs": [],
   "source": [
    "import tensorflow as tf\n",
    "import numpy as np\n",
    "import pandas as pd\n",
    "import matplotlib.pyplot as plt"
   ]
  },
  {
   "cell_type": "code",
   "execution_count": 2,
   "metadata": {},
   "outputs": [],
   "source": [
    "A=np.array([[5, 3, 0, 1],\n",
    "           [4, 0, 0, 1],\n",
    "           [1, 1, 0, 5],\n",
    "           [1, 0, 0, 4],\n",
    "           [0, 1, 5, 4]])\n",
    "\n",
    "n,m=A.shape\n",
    "k=2"
   ]
  },
  {
   "cell_type": "code",
   "execution_count": null,
   "metadata": {},
   "outputs": [],
   "source": [
    "A"
   ]
  },
  {
   "cell_type": "code",
   "execution_count": 3,
   "metadata": {},
   "outputs": [],
   "source": [
    "X=tf.placeholder(dtype=tf.float32,shape=[n,m])"
   ]
  },
  {
   "cell_type": "code",
   "execution_count": 4,
   "metadata": {},
   "outputs": [
    {
     "name": "stdout",
     "output_type": "stream",
     "text": [
      "WARNING:tensorflow:From /home/vasylcf/anaconda3/lib/python3.7/site-packages/tensorflow/python/framework/op_def_library.py:263: colocate_with (from tensorflow.python.framework.ops) is deprecated and will be removed in a future version.\n",
      "Instructions for updating:\n",
      "Colocations handled automatically by placer.\n"
     ]
    }
   ],
   "source": [
    "P=tf.Variable(tf.truncated_normal([n,k]))\n",
    "Q=tf.Variable(tf.truncated_normal([m,k]))"
   ]
  },
  {
   "cell_type": "code",
   "execution_count": 5,
   "metadata": {},
   "outputs": [],
   "source": [
    "b=tf.Variable(tf.zeros([1]))\n",
    "p=tf.Variable(tf.zeros([n,1]))\n",
    "q=tf.Variable(tf.zeros([m,1]))"
   ]
  },
  {
   "cell_type": "code",
   "execution_count": 6,
   "metadata": {},
   "outputs": [],
   "source": [
    "X_= b + tf.matmul(P+p, tf.transpose(Q+q))\n",
    "indices=tf.where(tf.not_equal(X,0))\n",
    "loss=tf.reduce_mean((tf.gather_nd(X,indices)-tf.gather_nd(X_,indices))**2)"
   ]
  },
  {
   "cell_type": "code",
   "execution_count": 27,
   "metadata": {},
   "outputs": [],
   "source": [
    "train_step_grad=tf.train.GradientDescentOptimizer(0.005).minimize(loss)\n",
    "train_step_adam=tf.train.AdamOptimizer(0.01).minimize(loss)"
   ]
  },
  {
   "cell_type": "code",
   "execution_count": 28,
   "metadata": {},
   "outputs": [],
   "source": [
    "init=tf.global_variables_initializer()"
   ]
  },
  {
   "cell_type": "code",
   "execution_count": 30,
   "metadata": {},
   "outputs": [
    {
     "name": "stdout",
     "output_type": "stream",
     "text": [
      "[[4.991579   2.6252801  3.5680945  0.90534604]\n",
      " [3.7413354  2.3774774  2.8922043  1.314647  ]\n",
      " [1.1915444  0.7285781  2.6592083  4.746199  ]\n",
      " [0.887447   0.9302764  2.2324007  4.250846  ]\n",
      " [5.0102267  1.2360251  4.973461   4.062477  ]] {<tf.Tensor 'Placeholder:0' shape=(5, 4) dtype=float32>: array([[5, 3, 0, 1],\n",
      "       [4, 0, 0, 1],\n",
      "       [1, 1, 0, 5],\n",
      "       [1, 0, 0, 4],\n",
      "       [0, 1, 5, 4]])}\n"
     ]
    },
    {
     "data": {
      "text/plain": [
       "[<matplotlib.lines.Line2D at 0x7f0440583358>]"
      ]
     },
     "execution_count": 30,
     "metadata": {},
     "output_type": "execute_result"
    },
    {
     "data": {
      "image/png": "[encoded data removed]",
      "text/plain": [
       "<Figure size 432x288 with 1 Axes>"
      ]
     },
     "metadata": {
      "needs_background": "light"
     },
     "output_type": "display_data"
    }
   ],
   "source": [
    "sess=tf.Session()\n",
    "sess.run(init)\n",
    "scores=[]\n",
    "for _ in range(500):\n",
    "    sess.run(train_step_grad, {X:A})\n",
    "    scores.append(sess.run(loss, {X:A}))\n",
    "print(sess.run(tf.matmul(P+p,tf.transpose(Q+q))+b), {X:A})\n",
    "sess.close()\n",
    "plt.plot(scores)"
   ]
  },
  {
   "cell_type": "code",
   "execution_count": 31,
   "metadata": {},
   "outputs": [
    {
     "name": "stdout",
     "output_type": "stream",
     "text": [
      "0.048156675\n"
     ]
    }
   ],
   "source": [
    "print(scores[-1])"
   ]
  },
  {
   "cell_type": "code",
   "execution_count": 29,
   "metadata": {},
   "outputs": [
    {
     "name": "stdout",
     "output_type": "stream",
     "text": [
      "[[5.1783304 2.915316  2.0778775 1.0099732]\n",
      " [3.6275592 2.1892202 1.3950531 0.7564322]\n",
      " [1.0038707 0.8294477 5.774606  4.924805 ]\n",
      " [0.9672781 0.8399783 4.592527  3.9503436]\n",
      " [1.767435  1.2139004 4.975371  4.1065183]] {<tf.Tensor 'Placeholder:0' shape=(5, 4) dtype=float32>: array([[5, 3, 0, 1],\n",
      "       [4, 0, 0, 1],\n",
      "       [1, 1, 0, 5],\n",
      "       [1, 0, 0, 4],\n",
      "       [0, 1, 5, 4]])}\n"
     ]
    },
    {
     "data": {
      "text/plain": [
       "[<matplotlib.lines.Line2D at 0x7f044062d908>]"
      ]
     },
     "execution_count": 29,
     "metadata": {},
     "output_type": "execute_result"
    },
    {
     "data": {
      "image/png": "[encoded data removed]",
      "text/plain": [
       "<Figure size 432x288 with 1 Axes>"
      ]
     },
     "metadata": {
      "needs_background": "light"
     },
     "output_type": "display_data"
    }
   ],
   "source": [
    "sess=tf.Session()\n",
    "sess.run(init)\n",
    "scores=[]\n",
    "for _ in range(200):\n",
    "    sess.run(train_step_adam, {X:A})\n",
    "    scores.append(sess.run(loss, {X:A}))\n",
    "print(sess.run(tf.matmul(P+p,tf.transpose(Q+q))+b), {X:A})\n",
    "sess.close()\n",
    "plt.plot(scores)"
   ]
  },
  {
   "cell_type": "code",
   "execution_count": 32,
   "metadata": {},
   "outputs": [
    {
     "data": {
      "text/plain": [
       "0.048156675"
      ]
     },
     "execution_count": 32,
     "metadata": {},
     "output_type": "execute_result"
    }
   ],
   "source": [
    "scores[-1]"
   ]
  },
  {
   "cell_type": "code",
   "execution_count": 11,
   "metadata": {},
   "outputs": [
    {
     "data": {
      "text/plain": [
       "array([[5, 3, 0, 1],\n",
       "       [4, 0, 0, 1],\n",
       "       [1, 1, 0, 5],\n",
       "       [1, 0, 0, 4],\n",
       "       [0, 1, 5, 4]])"
      ]
     },
     "execution_count": 11,
     "metadata": {},
     "output_type": "execute_result"
    }
   ],
   "source": [
    "A"
   ]
  },
  {
   "cell_type": "code",
   "execution_count": null,
   "metadata": {},
   "outputs": [],
   "source": []
  }
 ],
 "metadata": {
  "kernelspec": {
   "display_name": "Python 3",
   "language": "python",
   "name": "python3"
  },
  "language_info": {
   "codemirror_mode": {
    "name": "ipython",
    "version": 3
   },
   "file_extension": ".py",
   "mimetype": "text/x-python",
   "name": "python",
   "nbconvert_exporter": "python",
   "pygments_lexer": "ipython3",
   "version": "3.7.3"
  }
 },
 "nbformat": 4,
 "nbformat_minor": 2
}
