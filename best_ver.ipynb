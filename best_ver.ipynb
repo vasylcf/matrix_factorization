{
 "cells": [
  {
   "cell_type": "code",
   "execution_count": 1,
   "metadata": {},
   "outputs": [],
   "source": [
    "import numpy as np\n",
    "import pandas as pd\n",
    "import matplotlib.pyplot as plt"
   ]
  },
  {
   "cell_type": "code",
   "execution_count": 2,
   "metadata": {},
   "outputs": [],
   "source": [
    "A = np.array([\n",
    "    [5, 3, 0, 1],\n",
    "    [4, 0, 0, 1],\n",
    "    [1, 1, 0, 5],\n",
    "    [1, 0, 0, 4],\n",
    "    [0, 1, 5, 4],\n",
    "])\n",
    "\n",
    "n,m=A.shape\n",
    "k=2\n",
    "\n",
    "np.random.seed(10)\n",
    "P=np.random.randn(n,k)\n",
    "Q=np.random.randn(m,k)\n",
    "\n",
    "b=np.mean(A[np.where(A!=0)])\n",
    "bi=np.zeros(n)\n",
    "bj=np.zeros(m)\n",
    "iterr=20\n",
    "alpha=0.01\n",
    "beta=0.02"
   ]
  },
  {
   "cell_type": "code",
   "execution_count": 4,
   "metadata": {},
   "outputs": [],
   "source": [
    "train=[(i,j,A[i,j]) for i in range(n) for j in range(m) if A[i,j]!=0]"
   ]
  },
  {
   "cell_type": "code",
   "execution_count": 5,
   "metadata": {},
   "outputs": [
    {
     "data": {
      "text/html": [
       "<div>\n",
       "<style scoped>\n",
       "    .dataframe tbody tr th:only-of-type {\n",
       "        vertical-align: middle;\n",
       "    }\n",
       "\n",
       "    .dataframe tbody tr th {\n",
       "        vertical-align: top;\n",
       "    }\n",
       "\n",
       "    .dataframe thead th {\n",
       "        text-align: right;\n",
       "    }\n",
       "</style>\n",
       "<table border=\"1\" class=\"dataframe\">\n",
       "  <thead>\n",
       "    <tr style=\"text-align: right;\">\n",
       "      <th></th>\n",
       "      <th>user</th>\n",
       "      <th>item</th>\n",
       "      <th>rating</th>\n",
       "    </tr>\n",
       "  </thead>\n",
       "  <tbody>\n",
       "    <tr>\n",
       "      <th>0</th>\n",
       "      <td>0</td>\n",
       "      <td>0</td>\n",
       "      <td>5</td>\n",
       "    </tr>\n",
       "    <tr>\n",
       "      <th>1</th>\n",
       "      <td>0</td>\n",
       "      <td>1</td>\n",
       "      <td>3</td>\n",
       "    </tr>\n",
       "    <tr>\n",
       "      <th>2</th>\n",
       "      <td>0</td>\n",
       "      <td>3</td>\n",
       "      <td>1</td>\n",
       "    </tr>\n",
       "    <tr>\n",
       "      <th>3</th>\n",
       "      <td>1</td>\n",
       "      <td>0</td>\n",
       "      <td>4</td>\n",
       "    </tr>\n",
       "    <tr>\n",
       "      <th>4</th>\n",
       "      <td>1</td>\n",
       "      <td>3</td>\n",
       "      <td>1</td>\n",
       "    </tr>\n",
       "    <tr>\n",
       "      <th>5</th>\n",
       "      <td>2</td>\n",
       "      <td>0</td>\n",
       "      <td>1</td>\n",
       "    </tr>\n",
       "    <tr>\n",
       "      <th>6</th>\n",
       "      <td>2</td>\n",
       "      <td>1</td>\n",
       "      <td>1</td>\n",
       "    </tr>\n",
       "    <tr>\n",
       "      <th>7</th>\n",
       "      <td>2</td>\n",
       "      <td>3</td>\n",
       "      <td>5</td>\n",
       "    </tr>\n",
       "    <tr>\n",
       "      <th>8</th>\n",
       "      <td>3</td>\n",
       "      <td>0</td>\n",
       "      <td>1</td>\n",
       "    </tr>\n",
       "    <tr>\n",
       "      <th>9</th>\n",
       "      <td>3</td>\n",
       "      <td>3</td>\n",
       "      <td>4</td>\n",
       "    </tr>\n",
       "    <tr>\n",
       "      <th>10</th>\n",
       "      <td>4</td>\n",
       "      <td>1</td>\n",
       "      <td>1</td>\n",
       "    </tr>\n",
       "    <tr>\n",
       "      <th>11</th>\n",
       "      <td>4</td>\n",
       "      <td>2</td>\n",
       "      <td>5</td>\n",
       "    </tr>\n",
       "    <tr>\n",
       "      <th>12</th>\n",
       "      <td>4</td>\n",
       "      <td>3</td>\n",
       "      <td>4</td>\n",
       "    </tr>\n",
       "  </tbody>\n",
       "</table>\n",
       "</div>"
      ],
      "text/plain": [
       "    user  item  rating\n",
       "0      0     0       5\n",
       "1      0     1       3\n",
       "2      0     3       1\n",
       "3      1     0       4\n",
       "4      1     3       1\n",
       "5      2     0       1\n",
       "6      2     1       1\n",
       "7      2     3       5\n",
       "8      3     0       1\n",
       "9      3     3       4\n",
       "10     4     1       1\n",
       "11     4     2       5\n",
       "12     4     3       4"
      ]
     },
     "execution_count": 5,
     "metadata": {},
     "output_type": "execute_result"
    }
   ],
   "source": [
    "df=pd.DataFrame(train,columns=['user','item','rating'])\n",
    "df"
   ]
  },
  {
   "cell_type": "code",
   "execution_count": 6,
   "metadata": {},
   "outputs": [],
   "source": [
    "def  backprop(x, P=P, Q=Q, b=b, bi=bi, bj=bj,alpha=alpha, beta=beta):\n",
    "    i=x[0]\n",
    "    j=x[1]\n",
    "    a=x[2]\n",
    "    a_hat=b + np.dot( P[i,:]+bi[i] ,(Q[j,:]+bj[j]).T)\n",
    "    e=(a_hat-a)\n",
    "    \n",
    "    dp=e*(Q[j,:]+bj[j])\n",
    "    P[i,:]=P[i,:]-alpha*dp\n",
    "    \n",
    "    dq=e*(P[i,:]+bi[i])\n",
    "    Q[j,:]=Q[j,:]-alpha*dq\n",
    "    \n",
    "    db=e\n",
    "    b=b-beta*e\n",
    "    \n",
    "    dbi=dp\n",
    "    bi[i]=bi[i]-beta*np.mean(dbi)\n",
    "    \n",
    "    dbj=dq\n",
    "    bj[j]=bj[j]-beta*np.mean(dbj)\n",
    "    \n",
    "    a_hat=b + np.dot( P[i,:]+bi[i] ,(Q[j,:]+bj[j]).T)\n",
    "    err=(a-a_hat)**2\n",
    "    \n",
    "    return P,Q,b,bi,bj,err"
   ]
  },
  {
   "cell_type": "code",
   "execution_count": 7,
   "metadata": {},
   "outputs": [],
   "source": [
    "def model(df, iterr=20, P=P, Q=Q, b=b, bi=bi, bj=bj,alpha=alpha, beta=beta):\n",
    "    total_scores=[]\n",
    "    for _ in range(iterr):\n",
    "        batch_scores=[]\n",
    "        for x in df.index:\n",
    "            P,Q,b,bi,bj,err=backprop(df[['user','item','rating']].loc[x,:])\n",
    "            batch_scores.append(err)\n",
    "        total_scores.append(np.mean(batch_scores))\n",
    "    \n",
    "    plt.plot(total_scores)\n",
    "    result={'P':P, 'Q':Q, 'b':b, 'bi':bi, 'bj':bj}\n",
    "    return total_scores, result\n"
   ]
  },
  {
   "cell_type": "code",
   "execution_count": 8,
   "metadata": {},
   "outputs": [
    {
     "data": {
      "image/png": "[encoded data removed]",
      "text/plain": [
       "<Figure size 432x288 with 1 Axes>"
      ]
     },
     "metadata": {
      "needs_background": "light"
     },
     "output_type": "display_data"
    }
   ],
   "source": [
    "scores, result=model(df)"
   ]
  },
  {
   "cell_type": "code",
   "execution_count": 9,
   "metadata": {},
   "outputs": [
    {
     "data": {
      "text/plain": [
       "0.6795564592705221"
      ]
     },
     "execution_count": 9,
     "metadata": {},
     "output_type": "execute_result"
    }
   ],
   "source": [
    "scores[-1]"
   ]
  },
  {
   "cell_type": "code",
   "execution_count": null,
   "metadata": {},
   "outputs": [],
   "source": []
  }
 ],
 "metadata": {
  "kernelspec": {
   "display_name": "Python 3",
   "language": "python",
   "name": "python3"
  },
  "language_info": {
   "codemirror_mode": {
    "name": "ipython",
    "version": 3
   },
   "file_extension": ".py",
   "mimetype": "text/x-python",
   "name": "python",
   "nbconvert_exporter": "python",
   "pygments_lexer": "ipython3",
   "version": "3.7.3"
  }
 },
 "nbformat": 4,
 "nbformat_minor": 2
}
